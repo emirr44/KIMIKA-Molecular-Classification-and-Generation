{
 "cells": [
  {
   "cell_type": "markdown",
   "metadata": {
    "id": "wwEbRIBX0Ogb"
   },
   "source": [
    "# DATA AUGMENTATION"
   ]
  },
  {
   "cell_type": "markdown",
   "metadata": {
    "id": "ObRBDEkg0RsM"
   },
   "source": [
    "## Loading & Inspecting Raw Data"
   ]
  },
  {
   "cell_type": "code",
   "execution_count": 1,
   "metadata": {
    "colab": {
     "base_uri": "https://localhost:8080/"
    },
    "executionInfo": {
     "elapsed": 16692,
     "status": "ok",
     "timestamp": 1748698549557,
     "user": {
      "displayName": "Amir Sarajlić",
      "userId": "14354056469756795977"
     },
     "user_tz": -120
    },
    "id": "phrRm4ws4NYE",
    "outputId": "721ae35d-1c90-4abd-82a1-dc5f94a9afc4"
   },
   "outputs": [
    {
     "name": "stdout",
     "output_type": "stream",
     "text": [
      "Collecting rdkit\n",
      "  Downloading rdkit-2025.3.2-cp311-cp311-manylinux_2_28_x86_64.whl.metadata (4.0 kB)\n",
      "Requirement already satisfied: numpy in /usr/local/lib/python3.11/dist-packages (from rdkit) (2.0.2)\n",
      "Requirement already satisfied: Pillow in /usr/local/lib/python3.11/dist-packages (from rdkit) (11.2.1)\n",
      "Downloading rdkit-2025.3.2-cp311-cp311-manylinux_2_28_x86_64.whl (35.2 MB)\n",
      "\u001b[2K   \u001b[90m━━━━━━━━━━━━━━━━━━━━━━━━━━━━━━━━━━━━━━━━\u001b[0m \u001b[32m35.2/35.2 MB\u001b[0m \u001b[31m15.1 MB/s\u001b[0m eta \u001b[36m0:00:00\u001b[0m\n",
      "\u001b[?25hInstalling collected packages: rdkit\n",
      "Successfully installed rdkit-2025.3.2\n"
     ]
    }
   ],
   "source": [
    "!pip install rdkit"
   ]
  },
  {
   "cell_type": "code",
   "execution_count": 2,
   "metadata": {
    "colab": {
     "base_uri": "https://localhost:8080/",
     "height": 429
    },
    "executionInfo": {
     "elapsed": 29105,
     "status": "ok",
     "timestamp": 1748698578651,
     "user": {
      "displayName": "Amir Sarajlić",
      "userId": "14354056469756795977"
     },
     "user_tz": -120
    },
    "id": "yRpsAESVwjub",
    "outputId": "72446482-6635-4e59-c524-c42a04a6dd7f"
   },
   "outputs": [
    {
     "name": "stdout",
     "output_type": "stream",
     "text": [
      "Loaded 1513 molecules.\n"
     ]
    },
    {
     "data": {
      "text/html": [
       "<div>\n",
       "<style scoped>\n",
       "    .dataframe tbody tr th:only-of-type {\n",
       "        vertical-align: middle;\n",
       "    }\n",
       "\n",
       "    .dataframe tbody tr th {\n",
       "        vertical-align: top;\n",
       "    }\n",
       "\n",
       "    .dataframe thead th {\n",
       "        text-align: right;\n",
       "    }\n",
       "</style>\n",
       "<table border=\"1\" class=\"dataframe\">\n",
       "  <thead>\n",
       "    <tr style=\"text-align: right;\">\n",
       "      <th></th>\n",
       "      <th>mol</th>\n",
       "      <th>CID</th>\n",
       "      <th>Class</th>\n",
       "      <th>Model</th>\n",
       "      <th>pIC50</th>\n",
       "      <th>MW</th>\n",
       "      <th>AlogP</th>\n",
       "      <th>HBA</th>\n",
       "      <th>HBD</th>\n",
       "      <th>RB</th>\n",
       "      <th>...</th>\n",
       "      <th>PEOE6 (PEOE6)</th>\n",
       "      <th>PEOE7 (PEOE7)</th>\n",
       "      <th>PEOE8 (PEOE8)</th>\n",
       "      <th>PEOE9 (PEOE9)</th>\n",
       "      <th>PEOE10 (PEOE10)</th>\n",
       "      <th>PEOE11 (PEOE11)</th>\n",
       "      <th>PEOE12 (PEOE12)</th>\n",
       "      <th>PEOE13 (PEOE13)</th>\n",
       "      <th>PEOE14 (PEOE14)</th>\n",
       "      <th>canvasUID</th>\n",
       "    </tr>\n",
       "  </thead>\n",
       "  <tbody>\n",
       "    <tr>\n",
       "      <th>0</th>\n",
       "      <td>O1CC[C@@H](NC(=O)[C@@H](Cc2cc3cc(ccc3nc2N)-c2c...</td>\n",
       "      <td>BACE_1</td>\n",
       "      <td>1</td>\n",
       "      <td>Train</td>\n",
       "      <td>9.154901</td>\n",
       "      <td>431.56979</td>\n",
       "      <td>4.4014</td>\n",
       "      <td>3</td>\n",
       "      <td>2</td>\n",
       "      <td>5</td>\n",
       "      <td>...</td>\n",
       "      <td>53.205711</td>\n",
       "      <td>78.640335</td>\n",
       "      <td>226.85541</td>\n",
       "      <td>107.43491</td>\n",
       "      <td>37.133846</td>\n",
       "      <td>0.000000</td>\n",
       "      <td>7.980170</td>\n",
       "      <td>0.0</td>\n",
       "      <td>0.000000</td>\n",
       "      <td>1</td>\n",
       "    </tr>\n",
       "    <tr>\n",
       "      <th>1</th>\n",
       "      <td>Fc1cc(cc(F)c1)C[C@H](NC(=O)[C@@H](N1CC[C@](NC(...</td>\n",
       "      <td>BACE_2</td>\n",
       "      <td>1</td>\n",
       "      <td>Train</td>\n",
       "      <td>8.853872</td>\n",
       "      <td>657.81073</td>\n",
       "      <td>2.6412</td>\n",
       "      <td>5</td>\n",
       "      <td>4</td>\n",
       "      <td>16</td>\n",
       "      <td>...</td>\n",
       "      <td>73.817162</td>\n",
       "      <td>47.171600</td>\n",
       "      <td>365.67694</td>\n",
       "      <td>174.07675</td>\n",
       "      <td>34.923889</td>\n",
       "      <td>7.980170</td>\n",
       "      <td>24.148668</td>\n",
       "      <td>0.0</td>\n",
       "      <td>24.663788</td>\n",
       "      <td>2</td>\n",
       "    </tr>\n",
       "    <tr>\n",
       "      <th>2</th>\n",
       "      <td>S1(=O)(=O)N(c2cc(cc3c2n(cc3CC)CC1)C(=O)N[C@H](...</td>\n",
       "      <td>BACE_3</td>\n",
       "      <td>1</td>\n",
       "      <td>Train</td>\n",
       "      <td>8.698970</td>\n",
       "      <td>591.74091</td>\n",
       "      <td>2.5499</td>\n",
       "      <td>4</td>\n",
       "      <td>3</td>\n",
       "      <td>11</td>\n",
       "      <td>...</td>\n",
       "      <td>70.365707</td>\n",
       "      <td>47.941147</td>\n",
       "      <td>192.40652</td>\n",
       "      <td>255.75255</td>\n",
       "      <td>23.654478</td>\n",
       "      <td>0.230159</td>\n",
       "      <td>15.879790</td>\n",
       "      <td>0.0</td>\n",
       "      <td>24.663788</td>\n",
       "      <td>3</td>\n",
       "    </tr>\n",
       "    <tr>\n",
       "      <th>3</th>\n",
       "      <td>S1(=O)(=O)C[C@@H](Cc2cc(O[C@H](COCC)C(F)(F)F)c...</td>\n",
       "      <td>BACE_4</td>\n",
       "      <td>1</td>\n",
       "      <td>Train</td>\n",
       "      <td>8.698970</td>\n",
       "      <td>591.67828</td>\n",
       "      <td>3.1680</td>\n",
       "      <td>4</td>\n",
       "      <td>3</td>\n",
       "      <td>12</td>\n",
       "      <td>...</td>\n",
       "      <td>56.657166</td>\n",
       "      <td>37.954151</td>\n",
       "      <td>194.35304</td>\n",
       "      <td>202.76335</td>\n",
       "      <td>36.498634</td>\n",
       "      <td>0.980913</td>\n",
       "      <td>8.188327</td>\n",
       "      <td>0.0</td>\n",
       "      <td>26.385181</td>\n",
       "      <td>4</td>\n",
       "    </tr>\n",
       "    <tr>\n",
       "      <th>4</th>\n",
       "      <td>S1(=O)(=O)N(c2cc(cc3c2n(cc3CC)CC1)C(=O)N[C@H](...</td>\n",
       "      <td>BACE_5</td>\n",
       "      <td>1</td>\n",
       "      <td>Train</td>\n",
       "      <td>8.698970</td>\n",
       "      <td>629.71283</td>\n",
       "      <td>3.5086</td>\n",
       "      <td>3</td>\n",
       "      <td>3</td>\n",
       "      <td>11</td>\n",
       "      <td>...</td>\n",
       "      <td>78.945702</td>\n",
       "      <td>39.361153</td>\n",
       "      <td>179.71288</td>\n",
       "      <td>220.46130</td>\n",
       "      <td>23.654478</td>\n",
       "      <td>0.230159</td>\n",
       "      <td>15.879790</td>\n",
       "      <td>0.0</td>\n",
       "      <td>26.100143</td>\n",
       "      <td>5</td>\n",
       "    </tr>\n",
       "  </tbody>\n",
       "</table>\n",
       "<p>5 rows × 595 columns</p>\n",
       "</div>"
      ],
      "text/plain": [
       "                                                 mol     CID  Class  Model  \\\n",
       "0  O1CC[C@@H](NC(=O)[C@@H](Cc2cc3cc(ccc3nc2N)-c2c...  BACE_1      1  Train   \n",
       "1  Fc1cc(cc(F)c1)C[C@H](NC(=O)[C@@H](N1CC[C@](NC(...  BACE_2      1  Train   \n",
       "2  S1(=O)(=O)N(c2cc(cc3c2n(cc3CC)CC1)C(=O)N[C@H](...  BACE_3      1  Train   \n",
       "3  S1(=O)(=O)C[C@@H](Cc2cc(O[C@H](COCC)C(F)(F)F)c...  BACE_4      1  Train   \n",
       "4  S1(=O)(=O)N(c2cc(cc3c2n(cc3CC)CC1)C(=O)N[C@H](...  BACE_5      1  Train   \n",
       "\n",
       "      pIC50         MW   AlogP  HBA  HBD  RB  ...  PEOE6 (PEOE6)  \\\n",
       "0  9.154901  431.56979  4.4014    3    2   5  ...      53.205711   \n",
       "1  8.853872  657.81073  2.6412    5    4  16  ...      73.817162   \n",
       "2  8.698970  591.74091  2.5499    4    3  11  ...      70.365707   \n",
       "3  8.698970  591.67828  3.1680    4    3  12  ...      56.657166   \n",
       "4  8.698970  629.71283  3.5086    3    3  11  ...      78.945702   \n",
       "\n",
       "   PEOE7 (PEOE7)  PEOE8 (PEOE8)  PEOE9 (PEOE9)  PEOE10 (PEOE10)  \\\n",
       "0      78.640335      226.85541      107.43491        37.133846   \n",
       "1      47.171600      365.67694      174.07675        34.923889   \n",
       "2      47.941147      192.40652      255.75255        23.654478   \n",
       "3      37.954151      194.35304      202.76335        36.498634   \n",
       "4      39.361153      179.71288      220.46130        23.654478   \n",
       "\n",
       "   PEOE11 (PEOE11)  PEOE12 (PEOE12)  PEOE13 (PEOE13)  PEOE14 (PEOE14)  \\\n",
       "0         0.000000         7.980170              0.0         0.000000   \n",
       "1         7.980170        24.148668              0.0        24.663788   \n",
       "2         0.230159        15.879790              0.0        24.663788   \n",
       "3         0.980913         8.188327              0.0        26.385181   \n",
       "4         0.230159        15.879790              0.0        26.100143   \n",
       "\n",
       "   canvasUID  \n",
       "0          1  \n",
       "1          2  \n",
       "2          3  \n",
       "3          4  \n",
       "4          5  \n",
       "\n",
       "[5 rows x 595 columns]"
      ]
     },
     "execution_count": 2,
     "metadata": {},
     "output_type": "execute_result"
    }
   ],
   "source": [
    "# 📦 Required Libraries\n",
    "import pandas as pd\n",
    "import numpy as np\n",
    "from rdkit import Chem\n",
    "import matplotlib.pyplot as plt\n",
    "import seaborn as sns\n",
    "sns.set(style=\"whitegrid\")\n",
    "\n",
    "\n",
    "\n",
    "filepath= 'C:/Users/emirb/molecule_datasets/bace/raw/bace.csv'\n",
    "df = pd.read_csv(filepath)\n",
    "print(f\"Loaded {len(df)} molecules.\")\n",
    "df.head()"
   ]
  },
  {
   "cell_type": "code",
   "execution_count": 3,
   "metadata": {
    "colab": {
     "base_uri": "https://localhost:8080/"
    },
    "executionInfo": {
     "elapsed": 1316,
     "status": "ok",
     "timestamp": 1748698579969,
     "user": {
      "displayName": "Amir Sarajlić",
      "userId": "14354056469756795977"
     },
     "user_tz": -120
    },
    "id": "ZF1GejAT0IXY",
    "outputId": "bd80fb4d-c3f0-446c-914d-5271666ceaf7"
   },
   "outputs": [
    {
     "name": "stdout",
     "output_type": "stream",
     "text": [
      "\n",
      "Missing Values:\n",
      " mol                0\n",
      "CID                0\n",
      "Class              0\n",
      "Model              0\n",
      "pIC50              0\n",
      "                  ..\n",
      "PEOE11 (PEOE11)    0\n",
      "PEOE12 (PEOE12)    0\n",
      "PEOE13 (PEOE13)    0\n",
      "PEOE14 (PEOE14)    0\n",
      "canvasUID          0\n",
      "Length: 595, dtype: int64\n",
      "\n",
      "Numerical Description:\n",
      "              Class        pIC50           MW        AlogP          HBA  \\\n",
      "count  1513.000000  1513.000000  1513.000000  1513.000000  1513.000000   \n",
      "mean      0.456709     6.521991   479.661988     3.177080     3.732981   \n",
      "std       0.498287     1.342417   122.083053     1.396633     1.444778   \n",
      "min       0.000000     2.544546   138.187000    -4.361100     0.000000   \n",
      "25%       0.000000     5.585027   389.331300     2.335500     3.000000   \n",
      "50%       0.000000     6.761954   463.628300     3.171300     4.000000   \n",
      "75%       1.000000     7.540000   564.639530     4.015500     4.000000   \n",
      "max       1.000000    10.522879  1350.473300     7.617400    12.000000   \n",
      "\n",
      "               HBD           RB  HeavyAtomCount  ChiralCenterCount  \\\n",
      "count  1513.000000  1513.000000     1513.000000        1513.000000   \n",
      "mean      2.001322     8.049570       34.089227           0.522802   \n",
      "std       1.629343     4.741135        8.520088           1.162539   \n",
      "min       0.000000     0.000000       10.000000           0.000000   \n",
      "25%       0.000000     4.000000       28.000000           0.000000   \n",
      "50%       2.000000     7.000000       33.000000           0.000000   \n",
      "75%       3.000000    11.000000       40.000000           1.000000   \n",
      "max      15.000000    40.000000       97.000000          10.000000   \n",
      "\n",
      "       ChiralCenterCountAllPossible  ...  PEOE6 (PEOE6)  PEOE7 (PEOE7)  \\\n",
      "count                   1513.000000  ...    1513.000000    1513.000000   \n",
      "mean                       2.317250  ...      52.348846      48.763740   \n",
      "std                        1.612558  ...      25.993800      18.201519   \n",
      "min                        0.000000  ...       0.000000      -3.551821   \n",
      "25%                        1.000000  ...      34.319988      36.547150   \n",
      "50%                        2.000000  ...      51.479984      47.624382   \n",
      "75%                        3.000000  ...      66.553795      58.844093   \n",
      "max                       12.000000  ...     161.342860     124.272730   \n",
      "\n",
      "       PEOE8 (PEOE8)  PEOE9 (PEOE9)  PEOE10 (PEOE10)  PEOE11 (PEOE11)  \\\n",
      "count    1513.000000    1513.000000      1513.000000      1513.000000   \n",
      "mean      181.835580     148.442348        30.371697         3.488650   \n",
      "std        99.717702      60.548833        12.162452         5.148336   \n",
      "min         1.916970      -5.536391        -2.216191        -7.286308   \n",
      "25%       102.233770     102.510450        20.132990         0.000000   \n",
      "50%       171.917220     140.683620        30.107586         0.550130   \n",
      "75%       253.679080     185.659260        37.133846         7.980170   \n",
      "max       865.473330     378.516270       121.671900        29.823961   \n",
      "\n",
      "       PEOE12 (PEOE12)  PEOE13 (PEOE13)  PEOE14 (PEOE14)    canvasUID  \n",
      "count      1513.000000      1513.000000      1513.000000  1513.000000  \n",
      "mean         11.740560         1.239762        14.387597   783.779907  \n",
      "std           9.073406         3.293804        13.329890   444.468806  \n",
      "min          -6.106466        -7.379991        -1.273524     1.000000  \n",
      "25%           7.980170         0.000000         0.000000   407.000000  \n",
      "50%           8.188327         0.000000        21.710098   788.000000  \n",
      "75%          15.879790         0.000000        24.663788  1167.000000  \n",
      "max          80.218018        16.681131        61.659470  1547.000000  \n",
      "\n",
      "[8 rows x 592 columns]\n"
     ]
    }
   ],
   "source": [
    "# Count NaNs per column\n",
    "print(\"\\nMissing Values:\\n\", df.isnull().sum())\n",
    "\n",
    "# Basic stats for numeric columns (if any)\n",
    "print(\"\\nNumerical Description:\\n\", df.describe(include=[np.number]))"
   ]
  },
  {
   "cell_type": "code",
   "execution_count": 4,
   "metadata": {
    "colab": {
     "base_uri": "https://localhost:8080/"
    },
    "executionInfo": {
     "elapsed": 136,
     "status": "ok",
     "timestamp": 1748698580069,
     "user": {
      "displayName": "Amir Sarajlić",
      "userId": "14354056469756795977"
     },
     "user_tz": -120
    },
    "id": "5JiPGNuh237W",
    "outputId": "c72e7136-db96-4978-ecc3-034c308ad0f6"
   },
   "outputs": [
    {
     "name": "stdout",
     "output_type": "stream",
     "text": [
      "\n",
      "--- Dataset Info ---\n",
      "<class 'pandas.core.frame.DataFrame'>\n",
      "RangeIndex: 1513 entries, 0 to 1512\n",
      "Columns: 595 entries, mol to canvasUID\n",
      "dtypes: float64(210), int64(382), object(3)\n",
      "memory usage: 6.9+ MB\n",
      "None\n",
      "\n",
      "--- Class Distribution ---\n",
      "Class\n",
      "0    822\n",
      "1    691\n",
      "Name: count, dtype: int64\n",
      "\n",
      "--- Sample SMILES ---\n",
      "['O1CC[C@@H](NC(=O)[C@@H](Cc2cc3cc(ccc3nc2N)-c2ccccc2C)C)CC1(C)C', 'Fc1cc(cc(F)c1)C[C@H](NC(=O)[C@@H](N1CC[C@](NC(=O)C)(CC(C)C)C1=O)CCc1ccccc1)[C@H](O)[C@@H]1[NH2+]C[C@H](OCCC)C1', 'S1(=O)(=O)N(c2cc(cc3c2n(cc3CC)CC1)C(=O)N[C@H]([C@H](O)C[NH2+]Cc1cc(OC)ccc1)Cc1ccccc1)C', 'S1(=O)(=O)C[C@@H](Cc2cc(O[C@H](COCC)C(F)(F)F)c(N)c(F)c2)[C@H](O)[C@@H]([NH2+]Cc2cc(ccc2)C(C)(C)C)C1', 'S1(=O)(=O)N(c2cc(cc3c2n(cc3CC)CC1)C(=O)N[C@H]([C@H](O)C[NH2+]Cc1cc(ccc1)C(F)(F)F)Cc1ccccc1)C', 'S1(=O)C[C@@H](Cc2cc(OC(C(F)(F)F)C(F)(F)F)c(N)c(F)c2)[C@H](O)[C@@H]([NH2+]Cc2cc(ccc2)C(C)(C)C)C1', 'S(=O)(=O)(CCCCC)C[C@@H](NC(=O)c1cccnc1)C(=O)N[C@H]([C@H](O)C[NH2+]Cc1cc(ccc1)CC)Cc1cc(F)cc(F)c1', 'Fc1c2c(ccc1)[C@@]([NH+]=C2N)(C=1C=C(C)C(=O)N(C=1)CC)c1cc(ccc1)-c1cc(cnc1)C#CC', 'O1c2c(cc(cc2)CC)[C@@H]([NH2+]C[C@@H](O)[C@H]2NC(=O)C=3C=CC(=O)N(CCCCc4cc(C2)ccc4)C=3)CC12CCC2', 'O=C1N(CCCC1)C(C)(C)[C@@H]1C[C@@H](CCC1)C(=O)N[C@H]([C@H](O)C[NH2+]Cc1cc(ccc1)C(C)C)Cc1ccccc1']\n"
     ]
    }
   ],
   "source": [
    "print(\"\\n--- Dataset Info ---\")\n",
    "print(df.info())\n",
    "\n",
    "print(\"\\n--- Class Distribution ---\")\n",
    "print(df['Class'].value_counts())\n",
    "\n",
    "print(\"\\n--- Sample SMILES ---\")\n",
    "print(df['mol'].head(10).tolist())"
   ]
  },
  {
   "cell_type": "code",
   "execution_count": 5,
   "metadata": {
    "colab": {
     "base_uri": "https://localhost:8080/"
    },
    "executionInfo": {
     "elapsed": 156,
     "status": "ok",
     "timestamp": 1748698580220,
     "user": {
      "displayName": "Amir Sarajlić",
      "userId": "14354056469756795977"
     },
     "user_tz": -120
    },
    "id": "pI9vKhpw0WOr",
    "outputId": "39ba7b21-66f7-48e3-f8b9-940509436dba"
   },
   "outputs": [
    {
     "name": "stdout",
     "output_type": "stream",
     "text": [
      "Full duplicate rows: 0\n"
     ]
    }
   ],
   "source": [
    "# Duplicated rows (full)\n",
    "dup_rows = df.duplicated()\n",
    "print(f\"Full duplicate rows: {dup_rows.sum()}\")\n",
    "\n",
    "# Duplicated SMILES\n",
    "if 'smiles' in df.columns:\n",
    "    dup_smiles = df['smiles'].duplicated()\n",
    "    print(f\"Duplicate SMILES: {dup_smiles.sum()}\")"
   ]
  },
  {
   "cell_type": "code",
   "execution_count": 6,
   "metadata": {
    "executionInfo": {
     "elapsed": 2118,
     "status": "ok",
     "timestamp": 1748698582335,
     "user": {
      "displayName": "Amir Sarajlić",
      "userId": "14354056469756795977"
     },
     "user_tz": -120
    },
    "id": "Dw4_stq-2V4W"
   },
   "outputs": [],
   "source": [
    "def is_valid_smiles(smiles):\n",
    "    return Chem.MolFromSmiles(smiles) is not None\n",
    "\n",
    "df['valid_smiles'] = df['mol'].apply(is_valid_smiles)"
   ]
  },
  {
   "cell_type": "code",
   "execution_count": 7,
   "metadata": {
    "colab": {
     "base_uri": "https://localhost:8080/"
    },
    "executionInfo": {
     "elapsed": 1306,
     "status": "ok",
     "timestamp": 1748698583659,
     "user": {
      "displayName": "Amir Sarajlić",
      "userId": "14354056469756795977"
     },
     "user_tz": -120
    },
    "id": "TBnG_Rj10iSR",
    "outputId": "bf209b7e-80d0-401c-9a83-27bc474a1a41"
   },
   "outputs": [
    {
     "name": "stdout",
     "output_type": "stream",
     "text": [
      "Valid SMILES: 1513 / 1513\n"
     ]
    }
   ],
   "source": [
    "# Define function to check SMILES validity\n",
    "from rdkit import Chem\n",
    "\n",
    "def is_valid_smiles(smiles: str) -> bool:\n",
    "    return Chem.MolFromSmiles(smiles) is not None\n",
    "\n",
    "df['valid_smiles'] = df['mol'].apply(is_valid_smiles)\n",
    "initial_count = len(df)\n",
    "df = df[df['valid_smiles']]\n",
    "print(f\"Valid SMILES: {len(df)} / {initial_count}\")"
   ]
  },
  {
   "cell_type": "code",
   "execution_count": 8,
   "metadata": {
    "colab": {
     "base_uri": "https://localhost:8080/"
    },
    "executionInfo": {
     "elapsed": 6,
     "status": "ok",
     "timestamp": 1748698583668,
     "user": {
      "displayName": "Amir Sarajlić",
      "userId": "14354056469756795977"
     },
     "user_tz": -120
    },
    "id": "tjK5MkKx3C1h",
    "outputId": "a09bb110-a013-4290-a515-836ac19b625d"
   },
   "outputs": [
    {
     "name": "stdout",
     "output_type": "stream",
     "text": [
      "\n",
      "--- Missing Values ---\n",
      "mol                0\n",
      "CID                0\n",
      "Class              0\n",
      "Model              0\n",
      "pIC50              0\n",
      "                  ..\n",
      "PEOE12 (PEOE12)    0\n",
      "PEOE13 (PEOE13)    0\n",
      "PEOE14 (PEOE14)    0\n",
      "canvasUID          0\n",
      "valid_smiles       0\n",
      "Length: 596, dtype: int64\n"
     ]
    }
   ],
   "source": [
    "# 2.4 Check for Missing Values\n",
    "print(\"\\n--- Missing Values ---\")\n",
    "print(df.isna().sum())"
   ]
  },
  {
   "cell_type": "code",
   "execution_count": 9,
   "metadata": {
    "colab": {
     "base_uri": "https://localhost:8080/",
     "height": 480
    },
    "executionInfo": {
     "elapsed": 2270,
     "status": "ok",
     "timestamp": 1748698585943,
     "user": {
      "displayName": "Amir Sarajlić",
      "userId": "14354056469756795977"
     },
     "user_tz": -120
    },
    "id": "wHfhX0R-3F66",
    "outputId": "9b8c3600-5740-46ec-88ac-f8645aad8289"
   },
   "outputs": [
    {
     "data": {
      "image/png": "[encoded data removed]",
      "text/plain": [
       "<Figure size 640x480 with 1 Axes>"
      ]
     },
     "metadata": {},
     "output_type": "display_data"
    }
   ],
   "source": [
    "from rdkit import RDLogger\n",
    "from rdkit.Chem import Descriptors\n",
    "\n",
    "RDLogger.DisableLog('rdApp.*')  # Hide RDKit warnings\n",
    "\n",
    "def safe_molwt(smiles: str):\n",
    "    mol = Chem.MolFromSmiles(smiles)\n",
    "    if mol is not None:\n",
    "        return Descriptors.MolWt(mol)\n",
    "    return None\n",
    "\n",
    "df['MolWt'] = df['mol'].apply(safe_molwt)\n",
    "\n",
    "# Drop NaNs before plotting\n",
    "df_no_nan = df.dropna(subset=['MolWt'])\n",
    "\n",
    "plt.hist(df_no_nan['MolWt'], bins=50, color='steelblue')\n",
    "plt.xlabel(\"Molecular Weight\")\n",
    "plt.ylabel(\"Count\")\n",
    "plt.title(\"Molecular Weight Distribution\")\n",
    "plt.grid(True)\n",
    "plt.show()"
   ]
  },
  {
   "cell_type": "code",
   "execution_count": 6,
   "metadata": {
    "colab": {
     "base_uri": "https://localhost:8080/",
     "height": 480
    },
    "executionInfo": {
     "elapsed": 806,
     "status": "ok",
     "timestamp": 1748698586759,
     "user": {
      "displayName": "Amir Sarajlić",
      "userId": "14354056469756795977"
     },
     "user_tz": -120
    },
    "id": "A_MqpRYg2hV7",
    "outputId": "cd444dd4-0b11-416c-9337-72bebb8944ac"
   },
   "outputs": [
    {
     "data": {
      "image/png": "[encoded data removed]",
      "text/plain": [
       "<Figure size 640x480 with 1 Axes>"
      ]
     },
     "metadata": {},
     "output_type": "display_data"
    },
    {
     "data": {
      "image/png": "[encoded data removed]",
      "text/plain": [
       "<Figure size 640x480 with 2 Axes>"
      ]
     },
     "metadata": {},
     "output_type": "display_data"
    }
   ],
   "source": [
    "df['smiles_len'] = df['mol'].apply(len)\n",
    "\n",
    "plt.hist(df['smiles_len'], bins=40, color='purple')\n",
    "plt.xlabel(\"SMILES Length\")\n",
    "plt.ylabel(\"Count\")\n",
    "plt.title(\"SMILES Length Distribution\")\n",
    "plt.grid(True)\n",
    "plt.show()\n",
    "\n",
    "from rdkit.Chem import Descriptors\n",
    "def plot_descriptor_correlation_heatmap(df):\n",
    "    def calc_descriptors(smiles):\n",
    "        mol = Chem.MolFromSmiles(smiles)\n",
    "        if mol is None:\n",
    "            return [None, None, None]\n",
    "        return [\n",
    "            Descriptors.MolWt(mol),\n",
    "            Descriptors.MolLogP(mol),\n",
    "            Descriptors.NumRotatableBonds(mol)\n",
    "        ]\n",
    "\n",
    "    desc = df['mol'].apply(calc_descriptors)\n",
    "    desc_df = pd.DataFrame(desc.tolist(), columns=['MolWt', 'LogP', 'RotBonds'])\n",
    "    desc_df = desc_df.dropna()\n",
    "    corr = desc_df.corr()\n",
    "\n",
    "    sns.heatmap(corr, annot=True, cmap='coolwarm')\n",
    "    plt.title(\"Descriptor Correlation Heatmap\")\n",
    "    plt.show()\n",
    "\n",
    "plot_descriptor_correlation_heatmap(df)"
   ]
  },
  {
   "cell_type": "code",
   "execution_count": 11,
   "metadata": {
    "colab": {
     "base_uri": "https://localhost:8080/"
    },
    "executionInfo": {
     "elapsed": 1584,
     "status": "ok",
     "timestamp": 1748698588354,
     "user": {
      "displayName": "Amir Sarajlić",
      "userId": "14354056469756795977"
     },
     "user_tz": -120
    },
    "id": "FegRbPM93omq",
    "outputId": "d56ff0a7-de3d-4c10-86aa-060e60bca890"
   },
   "outputs": [
    {
     "name": "stdout",
     "output_type": "stream",
     "text": [
      "🔬 Top 10 Atom Types:\n",
      "C: 39055\n",
      "N: 5453\n",
      "O: 4586\n",
      "F: 1721\n",
      "S: 499\n",
      "Cl: 218\n",
      "Br: 41\n",
      "I: 4\n"
     ]
    }
   ],
   "source": [
    "from collections import Counter\n",
    "\n",
    "def extract_atom_symbols(smiles: str):\n",
    "    mol = Chem.MolFromSmiles(smiles)\n",
    "    if mol is None:\n",
    "        return []\n",
    "    return [atom.GetSymbol() for atom in mol.GetAtoms()]\n",
    "\n",
    "atom_counter = Counter()\n",
    "\n",
    "for s in df['mol']:\n",
    "    atom_counter.update(extract_atom_symbols(s))\n",
    "\n",
    "# Top 10 most frequent atom types\n",
    "common_atoms = atom_counter.most_common(10)\n",
    "\n",
    "print(\"🔬 Top 10 Atom Types:\")\n",
    "for atom, count in common_atoms:\n",
    "    print(f\"{atom}: {count}\")"
   ]
  },
  {
   "cell_type": "code",
   "execution_count": 12,
   "metadata": {
    "colab": {
     "base_uri": "https://localhost:8080/",
     "height": 480
    },
    "executionInfo": {
     "elapsed": 613,
     "status": "ok",
     "timestamp": 1748698588974,
     "user": {
      "displayName": "Amir Sarajlić",
      "userId": "14354056469756795977"
     },
     "user_tz": -120
    },
    "id": "_B3cSqhm3rbH",
    "outputId": "310d227d-520b-4be3-c99e-f09f73097cb1"
   },
   "outputs": [
    {
     "data": {
      "image/png": "[encoded data removed]",
      "text/plain": [
       "<Figure size 640x480 with 1 Axes>"
      ]
     },
     "metadata": {},
     "output_type": "display_data"
    }
   ],
   "source": [
    "atoms, counts = zip(*common_atoms)\n",
    "\n",
    "plt.bar(atoms, counts, color='green')\n",
    "plt.xlabel(\"Atom Type\")\n",
    "plt.ylabel(\"Frequency\")\n",
    "plt.title(\"Top 10 Atom Types in Dataset\")\n",
    "plt.grid(True)\n",
    "plt.show()"
   ]
  },
  {
   "cell_type": "markdown",
   "metadata": {
    "id": "dVyznA_a5keG"
   },
   "source": [
    "## SMILES Validation & Cleaning"
   ]
  },
  {
   "cell_type": "code",
   "execution_count": 13,
   "metadata": {
    "executionInfo": {
     "elapsed": 14,
     "status": "ok",
     "timestamp": 1748698588991,
     "user": {
      "displayName": "Amir Sarajlić",
      "userId": "14354056469756795977"
     },
     "user_tz": -120
    },
    "id": "BkrrMTkF5j1_"
   },
   "outputs": [],
   "source": [
    "df_valid = df[df['valid_smiles']].copy()"
   ]
  },
  {
   "cell_type": "code",
   "execution_count": 14,
   "metadata": {
    "executionInfo": {
     "elapsed": 15,
     "status": "ok",
     "timestamp": 1748698589011,
     "user": {
      "displayName": "Amir Sarajlić",
      "userId": "14354056469756795977"
     },
     "user_tz": -120
    },
    "id": "EmeTw9Ix5vWv"
   },
   "outputs": [],
   "source": [
    "df_valid = df_valid[df_valid['mol'].notnull()]\n",
    "df_valid = df_valid[df_valid['mol'].apply(lambda x: isinstance(x, str) and x.strip() != '')]"
   ]
  },
  {
   "cell_type": "code",
   "execution_count": 15,
   "metadata": {
    "executionInfo": {
     "elapsed": 2070,
     "status": "ok",
     "timestamp": 1748698591078,
     "user": {
      "displayName": "Amir Sarajlić",
      "userId": "14354056469756795977"
     },
     "user_tz": -120
    },
    "id": "qonK1O6v5yAi"
   },
   "outputs": [],
   "source": [
    "from rdkit import RDLogger\n",
    "RDLogger.DisableLog('rdApp.*')\n",
    "\n",
    "def strict_validate(smiles):\n",
    "    try:\n",
    "        mol = Chem.MolFromSmiles(smiles)\n",
    "        return mol is not None\n",
    "    except:\n",
    "        return False\n",
    "\n",
    "df_valid = df_valid[df_valid['mol'].apply(strict_validate)]"
   ]
  },
  {
   "cell_type": "code",
   "execution_count": 16,
   "metadata": {
    "colab": {
     "base_uri": "https://localhost:8080/"
    },
    "executionInfo": {
     "elapsed": 17,
     "status": "ok",
     "timestamp": 1748698591088,
     "user": {
      "displayName": "Amir Sarajlić",
      "userId": "14354056469756795977"
     },
     "user_tz": -120
    },
    "id": "y3iSNwRu513s",
    "outputId": "8be63005-2687-451e-8330-cc24a0ae41f1"
   },
   "outputs": [
    {
     "name": "stdout",
     "output_type": "stream",
     "text": [
      "Original rows: 1513\n",
      "Valid SMILES rows: 1513\n",
      "Dropped rows: 0\n"
     ]
    }
   ],
   "source": [
    "original_count = len(df)\n",
    "valid_count = len(df_valid)\n",
    "dropped_count = original_count - valid_count\n",
    "\n",
    "print(f\"Original rows: {original_count}\")\n",
    "print(f\"Valid SMILES rows: {valid_count}\")\n",
    "print(f\"Dropped rows: {dropped_count}\")"
   ]
  },
  {
   "cell_type": "code",
   "execution_count": null,
   "metadata": {
    "executionInfo": {
     "elapsed": 4,
     "status": "ok",
     "timestamp": 1748698591093,
     "user": {
      "displayName": "Amir Sarajlić",
      "userId": "14354056469756795977"
     },
     "user_tz": -120
    },
    "id": "nAMZf_ia55Hf"
   },
   "outputs": [],
   "source": [
    "df_dropped = df[~df.index.isin(df_valid.index)]\n",
    "df_dropped.to_csv(\"bace_dropped_invalid_smiles.csv\", index=False)\n",
    "df_valid.reset_index(drop=True, inplace=True)"
   ]
  },
  {
   "cell_type": "code",
   "execution_count": 18,
   "metadata": {
    "executionInfo": {
     "elapsed": 4,
     "status": "ok",
     "timestamp": 1748698591105,
     "user": {
      "displayName": "Amir Sarajlić",
      "userId": "14354056469756795977"
     },
     "user_tz": -120
    },
    "id": "inX044YH57iG"
   },
   "outputs": [],
   "source": [
    "df_valid.reset_index(drop=True, inplace=True)"
   ]
  },
  {
   "cell_type": "markdown",
   "metadata": {
    "id": "FiV3odG06eOr"
   },
   "source": [
    "## Basline Feature Extraction"
   ]
  },
  {
   "cell_type": "code",
   "execution_count": 19,
   "metadata": {
    "executionInfo": {
     "elapsed": 2,
     "status": "ok",
     "timestamp": 1748698591109,
     "user": {
      "displayName": "Amir Sarajlić",
      "userId": "14354056469756795977"
     },
     "user_tz": -120
    },
    "id": "IpXz2DrR8Ftk"
   },
   "outputs": [],
   "source": [
    "df.columns = df.columns.str.lower()  # Makes all column names lowercase"
   ]
  },
  {
   "cell_type": "code",
   "execution_count": 20,
   "metadata": {
    "colab": {
     "base_uri": "https://localhost:8080/"
    },
    "executionInfo": {
     "elapsed": 46,
     "status": "ok",
     "timestamp": 1748698591157,
     "user": {
      "displayName": "Amir Sarajlić",
      "userId": "14354056469756795977"
     },
     "user_tz": -120
    },
    "id": "yhEblyPc8ITi",
    "outputId": "fa16fe79-0e86-4db5-e034-33e9d2867853"
   },
   "outputs": [
    {
     "name": "stdout",
     "output_type": "stream",
     "text": [
      "Index(['mol', 'cid', 'class', 'model', 'pic50', 'mw', 'alogp', 'hba', 'hbd',\n",
      "       'rb',\n",
      "       ...\n",
      "       'peoe9 (peoe9)', 'peoe10 (peoe10)', 'peoe11 (peoe11)',\n",
      "       'peoe12 (peoe12)', 'peoe13 (peoe13)', 'peoe14 (peoe14)', 'canvasuid',\n",
      "       'valid_smiles', 'molwt', 'smiles_len'],\n",
      "      dtype='object', length=598)\n"
     ]
    }
   ],
   "source": [
    "print(df.columns)"
   ]
  },
  {
   "cell_type": "code",
   "execution_count": 21,
   "metadata": {
    "colab": {
     "base_uri": "https://localhost:8080/"
    },
    "executionInfo": {
     "elapsed": 1571,
     "status": "ok",
     "timestamp": 1748698592725,
     "user": {
      "displayName": "Amir Sarajlić",
      "userId": "14354056469756795977"
     },
     "user_tz": -120
    },
    "id": "-u_iuv206kzl",
    "outputId": "76b435cb-9ed3-4704-82ca-0e62dd311b7b"
   },
   "outputs": [
    {
     "name": "stdout",
     "output_type": "stream",
     "text": [
      "Morgan fingerprint matrix shape: (1513, 2048)\n"
     ]
    }
   ],
   "source": [
    "from rdkit import Chem\n",
    "from rdkit.Chem import AllChem\n",
    "import numpy as np\n",
    "import pandas as pd\n",
    "\n",
    "# Morgan fingerprint function\n",
    "def smiles_to_morgan_fp(smiles, radius=2, nBits=2048):\n",
    "    mol = Chem.MolFromSmiles(smiles)\n",
    "    if mol is None:\n",
    "        return None\n",
    "    fp = AllChem.GetMorganFingerprintAsBitVect(mol, radius, nBits)\n",
    "    arr = np.zeros((nBits,), dtype=np.int8)\n",
    "    Chem.DataStructs.ConvertToNumpyArray(fp, arr)\n",
    "    return arr\n",
    "\n",
    "# Apply to the valid SMILES column\n",
    "df['morgan_fp'] = df['mol'].apply(smiles_to_morgan_fp)\n",
    "\n",
    "# Drop entries where fingerprint generation failed (None)\n",
    "df = df[df['morgan_fp'].notna()].reset_index(drop=True)\n",
    "\n",
    "# Stack into a numpy array and save\n",
    "fingerprint_matrix = np.stack(df['morgan_fp'].values)\n",
    "\n",
    "# Optional: Save for later use\n",
    "np.save('baseline_fps.npy', fingerprint_matrix)\n",
    "\n",
    "print(f\"Morgan fingerprint matrix shape: {fingerprint_matrix.shape}\")"
   ]
  },
  {
   "cell_type": "code",
   "execution_count": 22,
   "metadata": {
    "colab": {
     "base_uri": "https://localhost:8080/"
    },
    "collapsed": true,
    "executionInfo": {
     "elapsed": 112828,
     "status": "ok",
     "timestamp": 1748698705555,
     "user": {
      "displayName": "Amir Sarajlić",
      "userId": "14354056469756795977"
     },
     "user_tz": -120
    },
    "id": "JY_vrHGk5snh",
    "outputId": "c74f8bff-bc2d-4fe8-8abd-13b872172618"
   },
   "outputs": [
    {
     "name": "stdout",
     "output_type": "stream",
     "text": [
      "Requirement already satisfied: torch in /usr/local/lib/python3.11/dist-packages (2.6.0+cu124)\n",
      "Collecting torch_geometric\n",
      "  Downloading torch_geometric-2.6.1-py3-none-any.whl.metadata (63 kB)\n",
      "\u001b[2K     \u001b[90m━━━━━━━━━━━━━━━━━━━━━━━━━━━━━━━━━━━━━━━━\u001b[0m \u001b[32m63.1/63.1 kB\u001b[0m \u001b[31m1.8 MB/s\u001b[0m eta \u001b[36m0:00:00\u001b[0m\n",
      "\u001b[?25hRequirement already satisfied: filelock in /usr/local/lib/python3.11/dist-packages (from torch) (3.18.0)\n",
      "Requirement already satisfied: typing-extensions>=4.10.0 in /usr/local/lib/python3.11/dist-packages (from torch) (4.13.2)\n",
      "Requirement already satisfied: networkx in /usr/local/lib/python3.11/dist-packages (from torch) (3.4.2)\n",
      "Requirement already satisfied: jinja2 in /usr/local/lib/python3.11/dist-packages (from torch) (3.1.6)\n",
      "Requirement already satisfied: fsspec in /usr/local/lib/python3.11/dist-packages (from torch) (2025.3.2)\n",
      "Collecting nvidia-cuda-nvrtc-cu12==12.4.127 (from torch)\n",
      "  Downloading nvidia_cuda_nvrtc_cu12-12.4.127-py3-none-manylinux2014_x86_64.whl.metadata (1.5 kB)\n",
      "Collecting nvidia-cuda-runtime-cu12==12.4.127 (from torch)\n",
      "  Downloading nvidia_cuda_runtime_cu12-12.4.127-py3-none-manylinux2014_x86_64.whl.metadata (1.5 kB)\n",
      "Collecting nvidia-cuda-cupti-cu12==12.4.127 (from torch)\n",
      "  Downloading nvidia_cuda_cupti_cu12-12.4.127-py3-none-manylinux2014_x86_64.whl.metadata (1.6 kB)\n",
      "Collecting nvidia-cudnn-cu12==9.1.0.70 (from torch)\n",
      "  Downloading nvidia_cudnn_cu12-9.1.0.70-py3-none-manylinux2014_x86_64.whl.metadata (1.6 kB)\n",
      "Collecting nvidia-cublas-cu12==12.4.5.8 (from torch)\n",
      "  Downloading nvidia_cublas_cu12-12.4.5.8-py3-none-manylinux2014_x86_64.whl.metadata (1.5 kB)\n",
      "Collecting nvidia-cufft-cu12==11.2.1.3 (from torch)\n",
      "  Downloading nvidia_cufft_cu12-11.2.1.3-py3-none-manylinux2014_x86_64.whl.metadata (1.5 kB)\n",
      "Collecting nvidia-curand-cu12==10.3.5.147 (from torch)\n",
      "  Downloading nvidia_curand_cu12-10.3.5.147-py3-none-manylinux2014_x86_64.whl.metadata (1.5 kB)\n",
      "Collecting nvidia-cusolver-cu12==11.6.1.9 (from torch)\n",
      "  Downloading nvidia_cusolver_cu12-11.6.1.9-py3-none-manylinux2014_x86_64.whl.metadata (1.6 kB)\n",
      "Collecting nvidia-cusparse-cu12==12.3.1.170 (from torch)\n",
      "  Downloading nvidia_cusparse_cu12-12.3.1.170-py3-none-manylinux2014_x86_64.whl.metadata (1.6 kB)\n",
      "Requirement already satisfied: nvidia-cusparselt-cu12==0.6.2 in /usr/local/lib/python3.11/dist-packages (from torch) (0.6.2)\n",
      "Requirement already satisfied: nvidia-nccl-cu12==2.21.5 in /usr/local/lib/python3.11/dist-packages (from torch) (2.21.5)\n",
      "Requirement already satisfied: nvidia-nvtx-cu12==12.4.127 in /usr/local/lib/python3.11/dist-packages (from torch) (12.4.127)\n",
      "Collecting nvidia-nvjitlink-cu12==12.4.127 (from torch)\n",
      "  Downloading nvidia_nvjitlink_cu12-12.4.127-py3-none-manylinux2014_x86_64.whl.metadata (1.5 kB)\n",
      "Requirement already satisfied: triton==3.2.0 in /usr/local/lib/python3.11/dist-packages (from torch) (3.2.0)\n",
      "Requirement already satisfied: sympy==1.13.1 in /usr/local/lib/python3.11/dist-packages (from torch) (1.13.1)\n",
      "Requirement already satisfied: mpmath<1.4,>=1.1.0 in /usr/local/lib/python3.11/dist-packages (from sympy==1.13.1->torch) (1.3.0)\n",
      "Requirement already satisfied: aiohttp in /usr/local/lib/python3.11/dist-packages (from torch_geometric) (3.11.15)\n",
      "Requirement already satisfied: numpy in /usr/local/lib/python3.11/dist-packages (from torch_geometric) (2.0.2)\n",
      "Requirement already satisfied: psutil>=5.8.0 in /usr/local/lib/python3.11/dist-packages (from torch_geometric) (5.9.5)\n",
      "Requirement already satisfied: pyparsing in /usr/local/lib/python3.11/dist-packages (from torch_geometric) (3.2.3)\n",
      "Requirement already satisfied: requests in /usr/local/lib/python3.11/dist-packages (from torch_geometric) (2.32.3)\n",
      "Requirement already satisfied: tqdm in /usr/local/lib/python3.11/dist-packages (from torch_geometric) (4.67.1)\n",
      "Requirement already satisfied: aiohappyeyeballs>=2.3.0 in /usr/local/lib/python3.11/dist-packages (from aiohttp->torch_geometric) (2.6.1)\n",
      "Requirement already satisfied: aiosignal>=1.1.2 in /usr/local/lib/python3.11/dist-packages (from aiohttp->torch_geometric) (1.3.2)\n",
      "Requirement already satisfied: attrs>=17.3.0 in /usr/local/lib/python3.11/dist-packages (from aiohttp->torch_geometric) (25.3.0)\n",
      "Requirement already satisfied: frozenlist>=1.1.1 in /usr/local/lib/python3.11/dist-packages (from aiohttp->torch_geometric) (1.6.0)\n",
      "Requirement already satisfied: multidict<7.0,>=4.5 in /usr/local/lib/python3.11/dist-packages (from aiohttp->torch_geometric) (6.4.4)\n",
      "Requirement already satisfied: propcache>=0.2.0 in /usr/local/lib/python3.11/dist-packages (from aiohttp->torch_geometric) (0.3.1)\n",
      "Requirement already satisfied: yarl<2.0,>=1.17.0 in /usr/local/lib/python3.11/dist-packages (from aiohttp->torch_geometric) (1.20.0)\n",
      "Requirement already satisfied: MarkupSafe>=2.0 in /usr/local/lib/python3.11/dist-packages (from jinja2->torch) (3.0.2)\n",
      "Requirement already satisfied: charset-normalizer<4,>=2 in /usr/local/lib/python3.11/dist-packages (from requests->torch_geometric) (3.4.2)\n",
      "Requirement already satisfied: idna<4,>=2.5 in /usr/local/lib/python3.11/dist-packages (from requests->torch_geometric) (3.10)\n",
      "Requirement already satisfied: urllib3<3,>=1.21.1 in /usr/local/lib/python3.11/dist-packages (from requests->torch_geometric) (2.4.0)\n",
      "Requirement already satisfied: certifi>=2017.4.17 in /usr/local/lib/python3.11/dist-packages (from requests->torch_geometric) (2025.4.26)\n",
      "Downloading nvidia_cublas_cu12-12.4.5.8-py3-none-manylinux2014_x86_64.whl (363.4 MB)\n",
      "\u001b[2K   \u001b[90m━━━━━━━━━━━━━━━━━━━━━━━━━━━━━━━━━━━━━━━━\u001b[0m \u001b[32m363.4/363.4 MB\u001b[0m \u001b[31m3.1 MB/s\u001b[0m eta \u001b[36m0:00:00\u001b[0m\n",
      "\u001b[?25hDownloading nvidia_cuda_cupti_cu12-12.4.127-py3-none-manylinux2014_x86_64.whl (13.8 MB)\n",
      "\u001b[2K   \u001b[90m━━━━━━━━━━━━━━━━━━━━━━━━━━━━━━━━━━━━━━━━\u001b[0m \u001b[32m13.8/13.8 MB\u001b[0m \u001b[31m100.5 MB/s\u001b[0m eta \u001b[36m0:00:00\u001b[0m\n",
      "\u001b[?25hDownloading nvidia_cuda_nvrtc_cu12-12.4.127-py3-none-manylinux2014_x86_64.whl (24.6 MB)\n",
      "\u001b[2K   \u001b[90m━━━━━━━━━━━━━━━━━━━━━━━━━━━━━━━━━━━━━━━━\u001b[0m \u001b[32m24.6/24.6 MB\u001b[0m \u001b[31m85.5 MB/s\u001b[0m eta \u001b[36m0:00:00\u001b[0m\n",
      "\u001b[?25hDownloading nvidia_cuda_runtime_cu12-12.4.127-py3-none-manylinux2014_x86_64.whl (883 kB)\n",
      "\u001b[2K   \u001b[90m━━━━━━━━━━━━━━━━━━━━━━━━━━━━━━━━━━━━━━━━\u001b[0m \u001b[32m883.7/883.7 kB\u001b[0m \u001b[31m44.9 MB/s\u001b[0m eta \u001b[36m0:00:00\u001b[0m\n",
      "\u001b[?25hDownloading nvidia_cudnn_cu12-9.1.0.70-py3-none-manylinux2014_x86_64.whl (664.8 MB)\n",
      "\u001b[2K   \u001b[90m━━━━━━━━━━━━━━━━━━━━━━━━━━━━━━━━━━━━━━━━\u001b[0m \u001b[32m664.8/664.8 MB\u001b[0m \u001b[31m2.6 MB/s\u001b[0m eta \u001b[36m0:00:00\u001b[0m\n",
      "\u001b[?25hDownloading nvidia_cufft_cu12-11.2.1.3-py3-none-manylinux2014_x86_64.whl (211.5 MB)\n",
      "\u001b[2K   \u001b[90m━━━━━━━━━━━━━━━━━━━━━━━━━━━━━━━━━━━━━━━━\u001b[0m \u001b[32m211.5/211.5 MB\u001b[0m \u001b[31m5.1 MB/s\u001b[0m eta \u001b[36m0:00:00\u001b[0m\n",
      "\u001b[?25hDownloading nvidia_curand_cu12-10.3.5.147-py3-none-manylinux2014_x86_64.whl (56.3 MB)\n",
      "\u001b[2K   \u001b[90m━━━━━━━━━━━━━━━━━━━━━━━━━━━━━━━━━━━━━━━━\u001b[0m \u001b[32m56.3/56.3 MB\u001b[0m \u001b[31m11.5 MB/s\u001b[0m eta \u001b[36m0:00:00\u001b[0m\n",
      "\u001b[?25hDownloading nvidia_cusolver_cu12-11.6.1.9-py3-none-manylinux2014_x86_64.whl (127.9 MB)\n",
      "\u001b[2K   \u001b[90m━━━━━━━━━━━━━━━━━━━━━━━━━━━━━━━━━━━━━━━━\u001b[0m \u001b[32m127.9/127.9 MB\u001b[0m \u001b[31m7.6 MB/s\u001b[0m eta \u001b[36m0:00:00\u001b[0m\n",
      "\u001b[?25hDownloading nvidia_cusparse_cu12-12.3.1.170-py3-none-manylinux2014_x86_64.whl (207.5 MB)\n",
      "\u001b[2K   \u001b[90m━━━━━━━━━━━━━━━━━━━━━━━━━━━━━━━━━━━━━━━━\u001b[0m \u001b[32m207.5/207.5 MB\u001b[0m \u001b[31m5.7 MB/s\u001b[0m eta \u001b[36m0:00:00\u001b[0m\n",
      "\u001b[?25hDownloading nvidia_nvjitlink_cu12-12.4.127-py3-none-manylinux2014_x86_64.whl (21.1 MB)\n",
      "\u001b[2K   \u001b[90m━━━━━━━━━━━━━━━━━━━━━━━━━━━━━━━━━━━━━━━━\u001b[0m \u001b[32m21.1/21.1 MB\u001b[0m \u001b[31m76.1 MB/s\u001b[0m eta \u001b[36m0:00:00\u001b[0m\n",
      "\u001b[?25hDownloading torch_geometric-2.6.1-py3-none-any.whl (1.1 MB)\n",
      "\u001b[2K   \u001b[90m━━━━━━━━━━━━━━━━━━━━━━━━━━━━━━━━━━━━━━━━\u001b[0m \u001b[32m1.1/1.1 MB\u001b[0m \u001b[31m60.3 MB/s\u001b[0m eta \u001b[36m0:00:00\u001b[0m\n",
      "\u001b[?25hInstalling collected packages: nvidia-nvjitlink-cu12, nvidia-curand-cu12, nvidia-cufft-cu12, nvidia-cuda-runtime-cu12, nvidia-cuda-nvrtc-cu12, nvidia-cuda-cupti-cu12, nvidia-cublas-cu12, nvidia-cusparse-cu12, nvidia-cudnn-cu12, torch_geometric, nvidia-cusolver-cu12\n",
      "  Attempting uninstall: nvidia-nvjitlink-cu12\n",
      "    Found existing installation: nvidia-nvjitlink-cu12 12.5.82\n",
      "    Uninstalling nvidia-nvjitlink-cu12-12.5.82:\n",
      "      Successfully uninstalled nvidia-nvjitlink-cu12-12.5.82\n",
      "  Attempting uninstall: nvidia-curand-cu12\n",
      "    Found existing installation: nvidia-curand-cu12 10.3.6.82\n",
      "    Uninstalling nvidia-curand-cu12-10.3.6.82:\n",
      "      Successfully uninstalled nvidia-curand-cu12-10.3.6.82\n",
      "  Attempting uninstall: nvidia-cufft-cu12\n",
      "    Found existing installation: nvidia-cufft-cu12 11.2.3.61\n",
      "    Uninstalling nvidia-cufft-cu12-11.2.3.61:\n",
      "      Successfully uninstalled nvidia-cufft-cu12-11.2.3.61\n",
      "  Attempting uninstall: nvidia-cuda-runtime-cu12\n",
      "    Found existing installation: nvidia-cuda-runtime-cu12 12.5.82\n",
      "    Uninstalling nvidia-cuda-runtime-cu12-12.5.82:\n",
      "      Successfully uninstalled nvidia-cuda-runtime-cu12-12.5.82\n",
      "  Attempting uninstall: nvidia-cuda-nvrtc-cu12\n",
      "    Found existing installation: nvidia-cuda-nvrtc-cu12 12.5.82\n",
      "    Uninstalling nvidia-cuda-nvrtc-cu12-12.5.82:\n",
      "      Successfully uninstalled nvidia-cuda-nvrtc-cu12-12.5.82\n",
      "  Attempting uninstall: nvidia-cuda-cupti-cu12\n",
      "    Found existing installation: nvidia-cuda-cupti-cu12 12.5.82\n",
      "    Uninstalling nvidia-cuda-cupti-cu12-12.5.82:\n",
      "      Successfully uninstalled nvidia-cuda-cupti-cu12-12.5.82\n",
      "  Attempting uninstall: nvidia-cublas-cu12\n",
      "    Found existing installation: nvidia-cublas-cu12 12.5.3.2\n",
      "    Uninstalling nvidia-cublas-cu12-12.5.3.2:\n",
      "      Successfully uninstalled nvidia-cublas-cu12-12.5.3.2\n",
      "  Attempting uninstall: nvidia-cusparse-cu12\n",
      "    Found existing installation: nvidia-cusparse-cu12 12.5.1.3\n",
      "    Uninstalling nvidia-cusparse-cu12-12.5.1.3:\n",
      "      Successfully uninstalled nvidia-cusparse-cu12-12.5.1.3\n",
      "  Attempting uninstall: nvidia-cudnn-cu12\n",
      "    Found existing installation: nvidia-cudnn-cu12 9.3.0.75\n",
      "    Uninstalling nvidia-cudnn-cu12-9.3.0.75:\n",
      "      Successfully uninstalled nvidia-cudnn-cu12-9.3.0.75\n",
      "  Attempting uninstall: nvidia-cusolver-cu12\n",
      "    Found existing installation: nvidia-cusolver-cu12 11.6.3.83\n",
      "    Uninstalling nvidia-cusolver-cu12-11.6.3.83:\n",
      "      Successfully uninstalled nvidia-cusolver-cu12-11.6.3.83\n",
      "Successfully installed nvidia-cublas-cu12-12.4.5.8 nvidia-cuda-cupti-cu12-12.4.127 nvidia-cuda-nvrtc-cu12-12.4.127 nvidia-cuda-runtime-cu12-12.4.127 nvidia-cudnn-cu12-9.1.0.70 nvidia-cufft-cu12-11.2.1.3 nvidia-curand-cu12-10.3.5.147 nvidia-cusolver-cu12-11.6.1.9 nvidia-cusparse-cu12-12.3.1.170 nvidia-nvjitlink-cu12-12.4.127 torch_geometric-2.6.1\n"
     ]
    }
   ],
   "source": [
    "!pip install torch torch_geometric"
   ]
  },
  {
   "cell_type": "code",
   "execution_count": 23,
   "metadata": {
    "colab": {
     "base_uri": "https://localhost:8080/"
    },
    "executionInfo": {
     "elapsed": 29056,
     "status": "ok",
     "timestamp": 1748698734628,
     "user": {
      "displayName": "Amir Sarajlić",
      "userId": "14354056469756795977"
     },
     "user_tz": -120
    },
    "id": "i_T-pGu75nsn",
    "outputId": "af51fe19-5498-4445-dad9-c7ad4aa1b3fa"
   },
   "outputs": [
    {
     "name": "stdout",
     "output_type": "stream",
     "text": [
      "✅ Converted 1513 molecules into graphs.\n"
     ]
    }
   ],
   "source": [
    "import torch\n",
    "from torch_geometric.data import Data\n",
    "from rdkit.Chem import rdmolops\n",
    "\n",
    "# Atom feature extractor\n",
    "def atom_features(atom):\n",
    "    return torch.tensor([\n",
    "        atom.GetAtomicNum(),\n",
    "        atom.GetDegree(),\n",
    "        atom.GetFormalCharge(),\n",
    "        atom.GetHybridization().real,\n",
    "        atom.GetTotalNumHs(),\n",
    "        int(atom.GetIsAromatic())\n",
    "    ], dtype=torch.float)\n",
    "\n",
    "# Bond feature extractor\n",
    "def bond_features(bond):\n",
    "    return torch.tensor([\n",
    "        int(bond.GetBondTypeAsDouble()),\n",
    "        int(bond.GetIsConjugated()),\n",
    "        int(bond.IsInRing())\n",
    "    ], dtype=torch.float)\n",
    "\n",
    "# SMILES to PyG Graph\n",
    "def smiles_to_graph(smiles):\n",
    "    mol = Chem.MolFromSmiles(smiles)\n",
    "    if mol is None:\n",
    "        return None\n",
    "\n",
    "    # Nodes\n",
    "    atom_feats = [atom_features(atom) for atom in mol.GetAtoms()]\n",
    "    x = torch.stack(atom_feats)\n",
    "\n",
    "    # Edges\n",
    "    edge_index = []\n",
    "    edge_attr = []\n",
    "\n",
    "    for bond in mol.GetBonds():\n",
    "        i = bond.GetBeginAtomIdx()\n",
    "        j = bond.GetEndAtomIdx()\n",
    "\n",
    "        edge_index.append((i, j))\n",
    "        edge_index.append((j, i))\n",
    "\n",
    "        bf = bond_features(bond)\n",
    "        edge_attr.append(bf)\n",
    "        edge_attr.append(bf)\n",
    "\n",
    "    edge_index = torch.tensor(edge_index, dtype=torch.long).t().contiguous()\n",
    "    edge_attr = torch.stack(edge_attr)\n",
    "\n",
    "    return Data(x=x, edge_index=edge_index, edge_attr=edge_attr)\n",
    "\n",
    "# Apply to dataset\n",
    "graph_list = []\n",
    "for smiles in df['mol']:\n",
    "    g = smiles_to_graph(smiles)\n",
    "    if g is not None:\n",
    "        graph_list.append(g)\n",
    "\n",
    "# Save graphs\n",
    "torch.save(graph_list, 'baseline_graphs.pt')\n",
    "\n",
    "print(f\"✅ Converted {len(graph_list)} molecules into graphs.\")"
   ]
  },
  {
   "cell_type": "markdown",
   "metadata": {
    "id": "WZrPuPluchhA"
   },
   "source": [
    "## Choosing, Configuring & Implementing Augmentation Functions"
   ]
  },
  {
   "cell_type": "code",
   "execution_count": 24,
   "metadata": {
    "executionInfo": {
     "elapsed": 10,
     "status": "ok",
     "timestamp": 1748698734642,
     "user": {
      "displayName": "Amir Sarajlić",
      "userId": "14354056469756795977"
     },
     "user_tz": -120
    },
    "id": "P-GkXvUXcl0c"
   },
   "outputs": [],
   "source": [
    "AUGMENTATION_CONFIG = {\n",
    "    'random_smiles': 5,\n",
    "    'tautomers': 3,\n",
    "}"
   ]
  },
  {
   "cell_type": "code",
   "execution_count": 25,
   "metadata": {
    "executionInfo": {
     "elapsed": 178,
     "status": "ok",
     "timestamp": 1748698734825,
     "user": {
      "displayName": "Amir Sarajlić",
      "userId": "14354056469756795977"
     },
     "user_tz": -120
    },
    "id": "sYMixhltdeTC"
   },
   "outputs": [],
   "source": [
    "from rdkit.Chem.MolStandardize import rdMolStandardize"
   ]
  },
  {
   "cell_type": "code",
   "execution_count": 26,
   "metadata": {
    "executionInfo": {
     "elapsed": 45,
     "status": "ok",
     "timestamp": 1748698734875,
     "user": {
      "displayName": "Amir Sarajlić",
      "userId": "14354056469756795977"
     },
     "user_tz": -120
    },
    "id": "4sjAK-t4dhCR"
   },
   "outputs": [],
   "source": [
    "def randomize_smiles(smiles, n=5):\n",
    "    \"\"\"Generate n randomized SMILES for a given molecule.\"\"\"\n",
    "    mol = Chem.MolFromSmiles(smiles)\n",
    "    if mol is None:\n",
    "        return []\n",
    "\n",
    "    randomized = set()\n",
    "    for _ in range(n * 2):  # try extra in case of duplicates\n",
    "        new_smiles = Chem.MolToSmiles(mol, doRandom=True)\n",
    "        randomized.add(new_smiles)\n",
    "        if len(randomized) >= n:\n",
    "            break\n",
    "    return list(randomized)"
   ]
  },
  {
   "cell_type": "code",
   "execution_count": null,
   "metadata": {
    "executionInfo": {
     "elapsed": 4,
     "status": "ok",
     "timestamp": 1748698734884,
     "user": {
      "displayName": "Amir Sarajlić",
      "userId": "14354056469756795977"
     },
     "user_tz": -120
    },
    "id": "CJIWvMx7dhmz"
   },
   "outputs": [],
   "source": [
    "def randomize_smiles(smiles, n=5):\n",
    "    \"\"\"Generate n randomized SMILES for a given molecule.\"\"\"\n",
    "    mol = Chem.MolFromSmiles(smiles)\n",
    "    if mol is None:\n",
    "        return []\n",
    "\n",
    "    randomized = set()\n",
    "    for _ in range(n * 2):  # try extra in case of duplicates\n",
    "        new_smiles = Chem.MolToSmiles(mol, doRandom=True)\n",
    "        randomized.add(new_smiles)\n",
    "        if len(randomized) >= n:\n",
    "            break\n",
    "    return list(randomized)\n",
    "\n",
    "def enumerate_tautomers(smiles, max_tautomers=3):\n",
    "    \"\"\"Enumerate tautomers using RDKit standardizer.\"\"\"\n",
    "    mol = Chem.MolFromSmiles(smiles)\n",
    "    if mol is None:\n",
    "        return []\n",
    "\n",
    "    enumerator = rdMolStandardize.TautomerEnumerator()\n",
    "    tautomers = enumerator.Enumerate(mol)\n",
    "\n",
    "    unique_smiles = set()\n",
    "    for t in tautomers:\n",
    "        s = Chem.MolToSmiles(t, canonical=True)\n",
    "        unique_smiles.add(s)\n",
    "        if len(unique_smiles) >= max_tautomers:\n",
    "            break\n",
    "\n",
    "    return list(unique_smiles)\n",
    "\n",
    "augmented_records = []\n",
    "\n",
    "for smiles in df['mol']:\n",
    "    if Chem.MolFromSmiles(smiles) is None:\n",
    "        continue\n",
    "\n",
    "    # Original\n",
    "    augmented_records.append((smiles, 'original'))\n",
    "\n",
    "    # Random SMILES\n",
    "    for aug in randomize_smiles(smiles, n=5):\n",
    "        augmented_records.append((aug, 'random_smiles'))\n",
    "\n",
    "    # Tautomers\n",
    "    for taut in enumerate_tautomers(smiles, max_tautomers=3):\n",
    "        augmented_records.append((taut, 'tautomer'))\n",
    "\n",
    "aug_df = pd.DataFrame(augmented_records, columns=['augmented_smiles', 'augmentation_type'])\n",
    "aug_df.to_csv('augmented_bace_smiles.csv', index=False)\n",
    "\n",
    "print(f\"✅ Generated {len(aug_df)} total SMILES: {aug_df['augmentation_type'].value_counts().to_dict()}\")"
   ]
  },
  {
   "cell_type": "code",
   "execution_count": 28,
   "metadata": {
    "executionInfo": {
     "elapsed": 50487,
     "status": "ok",
     "timestamp": 1748698785381,
     "user": {
      "displayName": "Amir Sarajlić",
      "userId": "14354056469756795977"
     },
     "user_tz": -120
    },
    "id": "ewMLOtWAdwo-"
   },
   "outputs": [],
   "source": [
    "augmented_records = []\n",
    "\n",
    "for smiles in df['mol']:\n",
    "    if Chem.MolFromSmiles(smiles) is None:\n",
    "        continue\n",
    "\n",
    "    # Original\n",
    "    augmented_records.append((smiles, 'original'))\n",
    "\n",
    "    # Random SMILES\n",
    "    for aug in randomize_smiles(smiles, n=5):\n",
    "        augmented_records.append((aug, 'random_smiles'))\n",
    "\n",
    "    # Tautomers\n",
    "    for taut in enumerate_tautomers(smiles, max_tautomers=3):\n",
    "        augmented_records.append((taut, 'tautomer'))"
   ]
  },
  {
   "cell_type": "code",
   "execution_count": 29,
   "metadata": {
    "colab": {
     "base_uri": "https://localhost:8080/"
    },
    "executionInfo": {
     "elapsed": 8,
     "status": "ok",
     "timestamp": 1748698785409,
     "user": {
      "displayName": "Amir Sarajlić",
      "userId": "14354056469756795977"
     },
     "user_tz": -120
    },
    "id": "i8aj6JsMeC2q",
    "outputId": "fc844a9f-ecc7-4b96-f9f8-84d43fa62495"
   },
   "outputs": [
    {
     "name": "stdout",
     "output_type": "stream",
     "text": [
      "✅ Generated 12731 total SMILES: {'random_smiles': 7565, 'tautomer': 3653, 'original': 1513}\n"
     ]
    }
   ],
   "source": [
    "aug_df = pd.DataFrame(augmented_records, columns=['augmented_smiles', 'augmentation_type'])\n",
    "aug_df.to_csv('augmented_bace_smiles.csv', index=False)\n",
    "\n",
    "print(f\"✅ Generated {len(aug_df)} total SMILES: {aug_df['augmentation_type'].value_counts().to_dict()}\")"
   ]
  },
  {
   "cell_type": "markdown",
   "metadata": {
    "id": "hYQWu36qeaYK"
   },
   "source": [
    "## Generating & Validating Augmented SMILES"
   ]
  },
  {
   "cell_type": "code",
   "execution_count": 30,
   "metadata": {
    "colab": {
     "base_uri": "https://localhost:8080/"
    },
    "executionInfo": {
     "elapsed": 44554,
     "status": "ok",
     "timestamp": 1748698829966,
     "user": {
      "displayName": "Amir Sarajlić",
      "userId": "14354056469756795977"
     },
     "user_tz": -120
    },
    "id": "cRaCNQCneDor",
    "outputId": "7604f06e-5bbb-45e5-cffc-29effb91b4c8"
   },
   "outputs": [
    {
     "name": "stdout",
     "output_type": "stream",
     "text": [
      "✅ SMILES Augmentation Complete:\n",
      "Originals: 1513\n",
      "Augmented (total): 12724\n",
      "augmentation_type\n",
      "random_smiles    7565\n",
      "tautomer         3646\n",
      "original         1513\n",
      "Name: count, dtype: int64\n"
     ]
    }
   ],
   "source": [
    "unique_augmented = set()\n",
    "augmented_rows = []\n",
    "\n",
    "def is_valid(smiles):\n",
    "    mol = Chem.MolFromSmiles(smiles)\n",
    "    return mol is not None\n",
    "\n",
    "for original_smiles in df['mol']:\n",
    "    # Include original\n",
    "    if original_smiles not in unique_augmented:\n",
    "        augmented_rows.append((original_smiles, original_smiles, 'original'))\n",
    "        unique_augmented.add(original_smiles)\n",
    "\n",
    "    # Random SMILES\n",
    "    for rand_smiles in randomize_smiles(original_smiles, n=5):\n",
    "        if is_valid(rand_smiles) and rand_smiles not in unique_augmented:\n",
    "            augmented_rows.append((original_smiles, rand_smiles, 'random_smiles'))\n",
    "            unique_augmented.add(rand_smiles)\n",
    "\n",
    "    # Tautomers\n",
    "    for taut in enumerate_tautomers(original_smiles, max_tautomers=3):\n",
    "        if is_valid(taut) and taut not in unique_augmented:\n",
    "            augmented_rows.append((original_smiles, taut, 'tautomer'))\n",
    "            unique_augmented.add(taut)\n",
    "\n",
    "# Convert to DataFrame\n",
    "aug_df = pd.DataFrame(augmented_rows, columns=['original_smiles', 'augmented_smiles', 'augmentation_type'])\n",
    "\n",
    "# Save intermediate CSV\n",
    "aug_df.to_csv('augmented_bace_smiles.csv', index=False)\n",
    "\n",
    "print(\"✅ SMILES Augmentation Complete:\")\n",
    "print(f\"Originals: {len(df)}\")\n",
    "print(f\"Augmented (total): {len(aug_df)}\")\n",
    "print(aug_df['augmentation_type'].value_counts())"
   ]
  },
  {
   "cell_type": "markdown",
   "metadata": {
    "id": "AZl3Ts0he7IO"
   },
   "source": [
    "## Converting Augmented SMILES to Graphs"
   ]
  },
  {
   "cell_type": "code",
   "execution_count": null,
   "metadata": {
    "colab": {
     "base_uri": "https://localhost:8080/"
    },
    "executionInfo": {
     "elapsed": 24927,
     "status": "ok",
     "timestamp": 1748698854876,
     "user": {
      "displayName": "Amir Sarajlić",
      "userId": "14354056469756795977"
     },
     "user_tz": -120
    },
    "id": "lmHN85xBe9A5",
    "outputId": "10a30f90-607b-417b-8057-a9a10ce058d3"
   },
   "outputs": [
    {
     "name": "stdout",
     "output_type": "stream",
     "text": [
      "✅ Graph Conversion Complete:\n",
      "✔️  Total SMILES input: 12724\n",
      "✅ Successfully converted: 12724\n",
      "❌ Failed to convert: 0\n"
     ]
    }
   ],
   "source": [
    "unique_augmented = set()\n",
    "augmented_rows = []\n",
    "\n",
    "def is_valid(smiles):\n",
    "    mol = Chem.MolFromSmiles(smiles)\n",
    "    return mol is not None\n",
    "\n",
    "for original_smiles in df['mol']:\n",
    "    # Include original\n",
    "    if original_smiles not in unique_augmented:\n",
    "        augmented_rows.append((original_smiles, original_smiles, 'original'))\n",
    "        unique_augmented.add(original_smiles)\n",
    "\n",
    "    # Random SMILES\n",
    "    for rand_smiles in randomize_smiles(original_smiles, n=5):\n",
    "        if is_valid(rand_smiles) and rand_smiles not in unique_augmented:\n",
    "            augmented_rows.append((original_smiles, rand_smiles, 'random_smiles'))\n",
    "            unique_augmented.add(rand_smiles)\n",
    "\n",
    "    # Tautomers\n",
    "    for taut in enumerate_tautomers(original_smiles, max_tautomers=3):\n",
    "        if is_valid(taut) and taut not in unique_augmented:\n",
    "            augmented_rows.append((original_smiles, taut, 'tautomer'))\n",
    "            unique_augmented.add(taut)\n",
    "\n",
    "# Convert to DataFrame\n",
    "aug_df = pd.DataFrame(augmented_rows, columns=['original_smiles', 'augmented_smiles', 'augmentation_type'])\n",
    "\n",
    "# Save intermediate CSV\n",
    "aug_df.to_csv('augmented_bace_smiles.csv', index=False)\n",
    "\n",
    "print(\"✅ SMILES Augmentation Complete:\")\n",
    "print(f\"Originals: {len(df)}\")\n",
    "print(f\"Augmented (total): {len(aug_df)}\")\n",
    "print(aug_df['augmentation_type'].value_counts())\n",
    "# Reusing my existing function: smiles_to_graph(smiles: str) -> Data\n",
    "aug_graphs = []\n",
    "failed_smiles = []\n",
    "\n",
    "for s in aug_df['augmented_smiles']:\n",
    "    g = smiles_to_graph(s)\n",
    "    if g is not None:\n",
    "        aug_graphs.append(g)\n",
    "    else:\n",
    "        failed_smiles.append(s)\n",
    "\n",
    "# Save the valid graph list\n",
    "torch.save(aug_graphs, 'augmented_bace_graphs.pt')\n",
    "\n",
    "# Saving failed SMILES to CSV for review\n",
    "pd.DataFrame(failed_smiles, columns=[\"failed_smiles\"]).to_csv(\"failed_augmented_smiles.csv\", index=False)\n",
    "\n",
    "# ✅ Log stats\n",
    "print(\"✅ Graph Conversion Complete:\")\n",
    "print(f\"✔️  Total SMILES input: {len(aug_df)}\")\n",
    "print(f\"✅ Successfully converted: {len(aug_graphs)}\")\n",
    "print(f\"❌ Failed to convert: {len(failed_smiles)}\")\n",
    "\n",
    "from rdkit.Chem.Scaffolds import MurckoScaffold\n",
    "from sklearn.model_selection import train_test_split\n",
    "from collections import defaultdict\n",
    "import pickle\n",
    "import random\n",
    "\n",
    "# Step 1: Get scaffold for each original SMILES\n",
    "def get_scaffold(smiles):\n",
    "    mol = Chem.MolFromSmiles(smiles)\n",
    "    if mol is None:\n",
    "        return None\n",
    "    scaffold = MurckoScaffold.GetScaffoldForMol(mol)\n",
    "    return Chem.MolToSmiles(scaffold)\n",
    "\n",
    "# Compute scaffolds for each original SMILES (not augmented ones)\n",
    "aug_df['scaffold'] = aug_df['original_smiles'].apply(get_scaffold)\n",
    "\n",
    "# Group original SMILES by scaffold\n",
    "scaffold_to_smiles = defaultdict(list)\n",
    "for orig, scaf in zip(aug_df['original_smiles'], aug_df['scaffold']):\n",
    "    scaffold_to_smiles[scaf].append(orig)\n",
    "\n",
    "# Deduplicate SMILES per scaffold\n",
    "scaffold_sets = list(scaffold_to_smiles.values())\n",
    "scaffold_sets = [list(set(s)) for s in scaffold_sets]\n",
    "\n",
    "# Shuffle reproducibly\n",
    "random.seed(42)\n",
    "random.shuffle(scaffold_sets)\n",
    "\n",
    "# Assign scaffold groups to splits\n",
    "train, valtest = train_test_split(scaffold_sets, test_size=0.2, random_state=42)\n",
    "val, test = train_test_split(valtest, test_size=0.5, random_state=42)\n",
    "\n",
    "# Flatten the lists\n",
    "train_smiles = set(s for group in train for s in group)\n",
    "val_smiles = set(s for group in val for s in group)\n",
    "test_smiles = set(s for group in test for s in group)\n",
    "\n",
    "# Assign split label to each row\n",
    "def assign_split(orig_smiles):\n",
    "    if orig_smiles in train_smiles:\n",
    "        return 'train'\n",
    "    elif orig_smiles in val_smiles:\n",
    "        return 'val'\n",
    "    elif orig_smiles in test_smiles:\n",
    "        return 'test'\n",
    "    return 'unknown'\n",
    "\n",
    "aug_df['split'] = aug_df['original_smiles'].apply(assign_split)\n",
    "\n",
    "# ✅ Sanity check\n",
    "print(\"✅ Split Summary:\")\n",
    "print(aug_df['split'].value_counts())\n",
    "\n",
    "# Step 5: Save indices to disk\n",
    "train_idx = aug_df[aug_df['split'] == 'train'].index.tolist()\n",
    "val_idx = aug_df[aug_df['split'] == 'val'].index.tolist()\n",
    "test_idx = aug_df[aug_df['split'] == 'test'].index.tolist()\n",
    "\n",
    "with open('aug_train_idx.pkl', 'wb') as f:\n",
    "    pickle.dump(train_idx, f)\n",
    "with open('aug_val_idx.pkl', 'wb') as f:\n",
    "    pickle.dump(val_idx, f)\n",
    "with open('aug_test_idx.pkl', 'wb') as f:\n",
    "    pickle.dump(test_idx, f)\n",
    "\n",
    "# 1. Unique split labels\n",
    "print(\"🔍 Unique splits:\", aug_df['split'].unique())\n",
    "\n",
    "# 2. Confirm no SMILES appears in more than one split\n",
    "grouped = aug_df.groupby('original_smiles')['split'].nunique()\n",
    "leaked = grouped[grouped > 1]\n",
    "print(f\"🔍 Leaking original SMILES: {len(leaked)}\")  # Should be 0\n",
    "\n",
    "# 3. Split counts\n",
    "print(\"📊 Split distribution:\")\n",
    "print(aug_df['split'].value_counts())\n",
    "\n",
    "# 4. Check that augmented SMILES match their original's split\n",
    "mismatch = aug_df[aug_df['split'] != aug_df.groupby('original_smiles')['split'].transform('first')]\n",
    "print(f\"❌ Mismatched augmentations: {len(mismatch)}\")  # Should be 0\n",
    "\n",
    "# 5. Scaffold NaNs\n",
    "print(\"🧪 Scaffold NaNs:\", aug_df['scaffold'].isna().sum())  # Should be 0 or very few"
   ]
  },
  {
   "cell_type": "markdown",
   "metadata": {
    "id": "22nd02-Afeem"
   },
   "source": [
    "## Merging & Labeling Dataset Splits"
   ]
  },
  {
   "cell_type": "code",
   "execution_count": 32,
   "metadata": {
    "colab": {
     "base_uri": "https://localhost:8080/"
    },
    "executionInfo": {
     "elapsed": 12899,
     "status": "ok",
     "timestamp": 1748698867770,
     "user": {
      "displayName": "Amir Sarajlić",
      "userId": "14354056469756795977"
     },
     "user_tz": -120
    },
    "id": "EckZalRQfgts",
    "outputId": "e3ededef-43e3-4075-e813-f9f1310ee1b3"
   },
   "outputs": [
    {
     "name": "stdout",
     "output_type": "stream",
     "text": [
      "✅ Split Summary:\n",
      "split\n",
      "train    10762\n",
      "val        995\n",
      "test       967\n",
      "Name: count, dtype: int64\n"
     ]
    }
   ],
   "source": [
    "from rdkit.Chem.Scaffolds import MurckoScaffold\n",
    "from sklearn.model_selection import train_test_split\n",
    "from collections import defaultdict\n",
    "import pickle\n",
    "import random\n",
    "\n",
    "# Step 1: Get scaffold for each original SMILES\n",
    "def get_scaffold(smiles):\n",
    "    mol = Chem.MolFromSmiles(smiles)\n",
    "    if mol is None:\n",
    "        return None\n",
    "    scaffold = MurckoScaffold.GetScaffoldForMol(mol)\n",
    "    return Chem.MolToSmiles(scaffold)\n",
    "\n",
    "# Compute scaffolds for each original SMILES (not augmented ones)\n",
    "aug_df['scaffold'] = aug_df['original_smiles'].apply(get_scaffold)\n",
    "\n",
    "# Group original SMILES by scaffold\n",
    "scaffold_to_smiles = defaultdict(list)\n",
    "for orig, scaf in zip(aug_df['original_smiles'], aug_df['scaffold']):\n",
    "    scaffold_to_smiles[scaf].append(orig)\n",
    "\n",
    "# Deduplicate SMILES per scaffold\n",
    "scaffold_sets = list(scaffold_to_smiles.values())\n",
    "scaffold_sets = [list(set(s)) for s in scaffold_sets]\n",
    "\n",
    "# Shuffle reproducibly\n",
    "random.seed(42)\n",
    "random.shuffle(scaffold_sets)\n",
    "\n",
    "# Assign scaffold groups to splits\n",
    "train, valtest = train_test_split(scaffold_sets, test_size=0.2, random_state=42)\n",
    "val, test = train_test_split(valtest, test_size=0.5, random_state=42)\n",
    "\n",
    "# Flatten the lists\n",
    "train_smiles = set(s for group in train for s in group)\n",
    "val_smiles = set(s for group in val for s in group)\n",
    "test_smiles = set(s for group in test for s in group)\n",
    "\n",
    "# Assign split label to each row\n",
    "def assign_split(orig_smiles):\n",
    "    if orig_smiles in train_smiles:\n",
    "        return 'train'\n",
    "    elif orig_smiles in val_smiles:\n",
    "        return 'val'\n",
    "    elif orig_smiles in test_smiles:\n",
    "        return 'test'\n",
    "    return 'unknown'\n",
    "\n",
    "aug_df['split'] = aug_df['original_smiles'].apply(assign_split)\n",
    "\n",
    "# ✅ Sanity check\n",
    "print(\"✅ Split Summary:\")\n",
    "print(aug_df['split'].value_counts())\n",
    "\n",
    "# Step 5: Save indices to disk\n",
    "train_idx = aug_df[aug_df['split'] == 'train'].index.tolist()\n",
    "val_idx = aug_df[aug_df['split'] == 'val'].index.tolist()\n",
    "test_idx = aug_df[aug_df['split'] == 'test'].index.tolist()\n",
    "\n",
    "with open('aug_train_idx.pkl', 'wb') as f:\n",
    "    pickle.dump(train_idx, f)\n",
    "with open('aug_val_idx.pkl', 'wb') as f:\n",
    "    pickle.dump(val_idx, f)\n",
    "with open('aug_test_idx.pkl', 'wb') as f:\n",
    "    pickle.dump(test_idx, f)"
   ]
  },
  {
   "cell_type": "markdown",
   "metadata": {
    "id": "BjxJB1JGgAdW"
   },
   "source": [
    "## Sanity check on aug_df"
   ]
  },
  {
   "cell_type": "code",
   "execution_count": 33,
   "metadata": {
    "colab": {
     "base_uri": "https://localhost:8080/"
    },
    "executionInfo": {
     "elapsed": 24,
     "status": "ok",
     "timestamp": 1748698867772,
     "user": {
      "displayName": "Amir Sarajlić",
      "userId": "14354056469756795977"
     },
     "user_tz": -120
    },
    "id": "WUiBZMifgH8M",
    "outputId": "db3d2cab-071d-4d2d-d0a8-2821134c358d"
   },
   "outputs": [
    {
     "name": "stdout",
     "output_type": "stream",
     "text": [
      "🔍 Unique splits: ['train' 'test' 'val']\n",
      "🔍 Leaking original SMILES: 0\n",
      "📊 Split distribution:\n",
      "split\n",
      "train    10762\n",
      "val        995\n",
      "test       967\n",
      "Name: count, dtype: int64\n",
      "❌ Mismatched augmentations: 0\n",
      "🧪 Scaffold NaNs: 0\n"
     ]
    }
   ],
   "source": [
    "# 1. Unique split labels\n",
    "print(\"🔍 Unique splits:\", aug_df['split'].unique())\n",
    "\n",
    "# 2. Confirm no SMILES appears in more than one split\n",
    "grouped = aug_df.groupby('original_smiles')['split'].nunique()\n",
    "leaked = grouped[grouped > 1]\n",
    "print(f\"🔍 Leaking original SMILES: {len(leaked)}\")  # Should be 0\n",
    "\n",
    "# 3. Split counts\n",
    "print(\"📊 Split distribution:\")\n",
    "print(aug_df['split'].value_counts())\n",
    "\n",
    "# 4. Check that augmented SMILES match their original's split\n",
    "mismatch = aug_df[aug_df['split'] != aug_df.groupby('original_smiles')['split'].transform('first')]\n",
    "print(f\"❌ Mismatched augmentations: {len(mismatch)}\")  # Should be 0\n",
    "\n",
    "# 5. Scaffold NaNs\n",
    "print(\"🧪 Scaffold NaNs:\", aug_df['scaffold'].isna().sum())  # Should be 0 or very few"
   ]
  },
  {
   "cell_type": "markdown",
   "metadata": {
    "id": "MjgKCrfPgYcl"
   },
   "source": [
    "## SAVE"
   ]
  },
  {
   "cell_type": "code",
   "execution_count": 34,
   "metadata": {
    "colab": {
     "base_uri": "https://localhost:8080/"
    },
    "executionInfo": {
     "elapsed": 76,
     "status": "ok",
     "timestamp": 1748698867841,
     "user": {
      "displayName": "Amir Sarajlić",
      "userId": "14354056469756795977"
     },
     "user_tz": -120
    },
    "id": "6o5SSlf7gy06",
    "outputId": "bfc98c8a-5bc5-45a3-d6cf-8c1d5c99aa38"
   },
   "outputs": [
    {
     "name": "stdout",
     "output_type": "stream",
     "text": [
      "💾 Saved: augmented_bace_smiles.csv\n"
     ]
    }
   ],
   "source": [
    "aug_df.to_csv('augmented_bace_smiles.csv', index=False)\n",
    "print(\"💾 Saved: augmented_bace_smiles.csv\")"
   ]
  },
  {
   "cell_type": "code",
   "execution_count": null,
   "metadata": {
    "colab": {
     "base_uri": "https://localhost:8080/",
     "height": 17
    },
    "executionInfo": {
     "elapsed": 2315,
     "status": "ok",
     "timestamp": 1748699297436,
     "user": {
      "displayName": "Amir Sarajlić",
      "userId": "14354056469756795977"
     },
     "user_tz": -120
    },
    "id": "fHn3a9-EmaLl",
    "outputId": "69b7b885-e73d-4971-a9e2-b79780983a66"
   },
   "outputs": [
    {
     "data": {
      "application/javascript": "\n    async function download(id, filename, size) {\n      if (!google.colab.kernel.accessAllowed) {\n        return;\n      }\n      const div = document.createElement('div');\n      const label = document.createElement('label');\n      label.textContent = `Downloading \"${filename}\": `;\n      div.appendChild(label);\n      const progress = document.createElement('progress');\n      progress.max = size;\n      div.appendChild(progress);\n      document.body.appendChild(div);\n\n      const buffers = [];\n      let downloaded = 0;\n\n      const channel = await google.colab.kernel.comms.open(id);\n      // Send a message to notify the kernel that we're ready.\n      channel.send({})\n\n      for await (const message of channel.messages) {\n        // Send a message to notify the kernel that we're ready.\n        channel.send({})\n        if (message.buffers) {\n          for (const buffer of message.buffers) {\n            buffers.push(buffer);\n            downloaded += buffer.byteLength;\n            progress.value = downloaded;\n          }\n        }\n      }\n      const blob = new Blob(buffers, {type: 'application/binary'});\n      const a = document.createElement('a');\n      a.href = window.URL.createObjectURL(blob);\n      a.download = filename;\n      div.appendChild(a);\n      a.click();\n      div.remove();\n    }\n  ",
      "text/plain": [
       "<IPython.core.display.Javascript object>"
      ]
     },
     "metadata": {},
     "output_type": "display_data"
    },
    {
     "data": {
      "application/javascript": "download(\"download_885751e3-9049-47ed-89e2-4800b9ee3af4\", \"bace_data_aug.zip\", 4822593)",
      "text/plain": [
       "<IPython.core.display.Javascript object>"
      ]
     },
     "metadata": {},
     "output_type": "display_data"
    }
   ],
   "source": [
    "aug_df.to_csv('augmented_bace_smiles.csv', index=False)\n",
    "print(\"💾 Saved: augmented_bace_smiles.csv\")\n",
    "import shutil\n",
    "shutil.make_archive('bace_data_aug', 'zip', '/content/bace_data_aug')\n",
    "\n",
    "from google.colab import files\n",
    "files.download('bace_data_aug.zip')"
   ]
  },
  {
   "cell_type": "code",
   "execution_count": 44,
   "metadata": {
    "colab": {
     "base_uri": "https://localhost:8080/"
    },
    "executionInfo": {
     "elapsed": 133,
     "status": "ok",
     "timestamp": 1748699343381,
     "user": {
      "displayName": "Amir Sarajlić",
      "userId": "14354056469756795977"
     },
     "user_tz": -120
    },
    "id": "RDieFJ61ml9O",
    "outputId": "7c8e3c64-c7eb-4b0b-eda2-ba1e405e11e5"
   },
   "outputs": [
    {
     "name": "stdout",
     "output_type": "stream",
     "text": [
      "total 54M\n",
      "-rw-r--r-- 1 root root  46M May 31 13:40 augmented_bace_graphs.pt\n",
      "-rw-r--r-- 1 root root 2.4M May 31 13:41 augmented_bace_smiles.csv\n",
      "-rw-r--r-- 1 root root 2.9K May 31 13:41 aug_test_idx.pkl\n",
      "-rw-r--r-- 1 root root  32K May 31 13:41 aug_train_idx.pkl\n",
      "-rw-r--r-- 1 root root 3.0K May 31 13:41 aug_val_idx.pkl\n",
      "-rw-r--r-- 1 root root  12K May 31 13:36 bace_dropped_invalid_smiles.csv\n",
      "-rw-r--r-- 1 root root 5.4M May 31 13:38 baseline_graphs.pt\n",
      "-rw-r--r-- 1 root root   14 May 31 13:40 failed_augmented_smiles.csv\n"
     ]
    }
   ],
   "source": [
    "!ls -lh /content/bace_data_aug"
   ]
  }
 ],
 "metadata": {
  "colab": {
   "collapsed_sections": [
    "ObRBDEkg0RsM",
    "dVyznA_a5keG",
    "FiV3odG06eOr",
    "WZrPuPluchhA",
    "hYQWu36qeaYK",
    "AZl3Ts0he7IO",
    "22nd02-Afeem",
    "BjxJB1JGgAdW"
   ],
   "provenance": []
  },
  "kernelspec": {
   "display_name": "GraphMVP",
   "language": "python",
   "name": "python3"
  },
  "language_info": {
   "codemirror_mode": {
    "name": "ipython",
    "version": 3
   },
   "file_extension": ".py",
   "mimetype": "text/x-python",
   "name": "python",
   "nbconvert_exporter": "python",
   "pygments_lexer": "ipython3",
   "version": "3.7.12"
  }
 },
 "nbformat": 4,
 "nbformat_minor": 0
}
